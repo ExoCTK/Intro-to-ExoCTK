{
 "cells": [
  {
   "cell_type": "markdown",
   "metadata": {},
   "source": [
    "# Introduction to ExoCTK\n",
    "Authors: Jules Fowler, Joe Filippazzo, Matthew Bourque, Kevin Stevenson\n",
    "\n",
    "The Exoplanet Characterization Tool Kit (ExoCTK) is an open source Python 3.5+ package that serves as a one-stop-shop for observation planning, data reduction, and scientific analysis of transiting exoplanet systems.\n",
    "\n",
    "In this notebook, we will cover the installation of the software as well as an end-to-end example that demonstrates the core functionalities of each tool provided by the ExoCTK package.\n",
    "\n",
    "# Installation\n",
    "You must first have a working installation of ``anaconda`` or ``miniconda`` for Python 3.  If you do not yet have this on your system, you can visit the following links for download and installation instructions:\n",
    "\n",
    "- [Anaconda](https://www.anaconda.com/download/)\n",
    "- [Miniconda](https://conda.io/en/latest/miniconda.html)\n",
    "\n",
    "To obtain the latest `exoctk` package with the necessary environment files, you should clone the repository directly from GitHub:\n",
    "\n",
    "```\n",
    "git clone https://github.com/ExoCTK/exoctk.git\n",
    "cd exoctk\n",
    "```\n",
    "\n",
    "To obtain the `exoctk` data, visit the shared [ExoCTK DropBox](https://www.dropbox.com/sh/p9c49urdbkmn5rz/AACFIjeAphOPqcCLtqd1v_W9a?dl=0), download the folders, and unzip them into a directory called `exoctk_data/`.  You may need to download  `modelgrid` seperately because it's the largest of the bunch and some computers have trouble with large .zip files.  Next, export an environment variable for `EXOCTK_DATA`. For Mac OS/Linux, add the line\n",
    "\n",
    "```\n",
    "export EXOCTK_DATA='/path/to/your/unzipped/directory/exoctk_data/'\n",
    "```\n",
    "\n",
    "to your `.bashrc` or `.bash_profile`. Don't forget to execute your `.bashrc` or `.bash_profile` to implement the changes in your terminal.\n",
    "\n",
    "```\n",
    "source ~/.bash_profile\n",
    "```\n",
    "\n",
    "For Windows, add an evironment variable using System Utility. \n",
    "\n",
    "\n",
    "You can install the ExoCTK `conda` environment via the `env/environment-<PYTHON_VERSION>.yml` files (relative to the parent directory of where the `exoctk` repository was installed).  Note that there are separate environment files for each version of `python` that `exoctk` supports.  For this demo, we will be using version 3.6. Ensure that `conda` is up to date, create the `exoctk` environment with Python version 3.6, and activate it with:\n",
    "\n",
    "```\n",
    "conda update conda\n",
    "conda activate base\n",
    "conda env create -f env/environment-3.6.yml\n",
    "conda activate exoctk-3.6\n",
    "conda install ipykernel\n",
    "python -m ipykernel install --user --name exoctk-3.6 --display-name \"exoctk-3.6\"\n",
    "```\n",
    "\n",
    "Finally, install `exoctk` by running the `exoctk` setup script:\n",
    "\n",
    "```\n",
    "python setup.py install\n",
    "```\n",
    "# Kernel\n",
    "Before getting started, make sure that you are using the `exoctk-3.6` kernel be selecting it via `Kernel` -> `Change kernel`.\n",
    "\n",
    "# Imports\n",
    "Here are a few basic imports we'll need later on..."
   ]
  },
  {
   "cell_type": "code",
   "execution_count": null,
   "metadata": {},
   "outputs": [],
   "source": [
    "import os\n",
    "import numpy as np\n",
    "from bokeh.io import output_notebook\n",
    "from bokeh.plotting import show\n",
    "output_notebook()"
   ]
  },
  {
   "cell_type": "markdown",
   "metadata": {},
   "source": [
    "# Ask a compelling science question\n",
    "Successful proposals require a well-posed science question with testable hypothesis.  For this end-to-end demonstration, let's ask a simple question: \"Where's the methane?\"  More specifically, we want to know if planets with Teq < 1000 have methane in their atmospheres, as predicted by chemical equilibrium models.\n",
    "\n",
    "# Find the best target that answers your question\n",
    "Next, let's use the [Exo.MAST Observability Table](https://catalogs.mast.stsci.edu/eaot) to find the highest signal-to-noise target in transmission that is likely to have methane.  Applying the filter: `Teq < 1000 K` and sorting on `K-Band Transmission SNR` shows that WASP-107b is our best target.\n",
    "\n",
    "# Transiting exoplanet system example\n",
    "Let's grab all of WASP-107's relevant system parameters using the [ExoMAST](https://exo.mast.stsci.edu) service lookup in ExoCTK.  There are a lot of parameters, so let's just print the planet name and temperature."
   ]
  },
  {
   "cell_type": "code",
   "execution_count": null,
   "metadata": {},
   "outputs": [],
   "source": [
    "import os\n",
    "\n",
    "# Get the orbital parameters\n",
    "from exoctk.utils import get_target_data\n",
    "wasp107b_params, url = get_target_data('WASP-107b')\n",
    "print(wasp107b_params['planet_name'], wasp107b_params['Tp'])"
   ]
  },
  {
   "cell_type": "markdown",
   "metadata": {},
   "source": [
    "# Observation Planning with the Groups and Integrations Calculator\n",
    "This section will describe planning an observation, including calculating the correct number of groups and Integrations to enter into the Astronomers Proposal Tool (APT)."
   ]
  },
  {
   "cell_type": "markdown",
   "metadata": {},
   "source": [
    "## Groups and Integrations\n",
    "\n",
    "To plan an observation with APT, an observer needs to calculate the groups and integerations required for their observation. Each JWST observation consists of some amount of overhead (time to reset the detector, etc), and a discrete number of integrations, each made up of 'n' frames. For time-series observations, there is always only one frame per group, so each integration also has 'n' groups.  The total observation time is determined by the frame time of your given instrument and mode, the number of groups per integration, and the number of integrations in your exposure.  An observation with too many groups per integration will saturate the detector, but too few groups per integration will lead to inefficient observations (i.e. low duty cycles). \n",
    "\n",
    "This part of the demo will teach you how to calculate the groups and integrations of our target, WASP 107b, and send it through APT. "
   ]
  },
  {
   "cell_type": "code",
   "execution_count": null,
   "metadata": {},
   "outputs": [],
   "source": [
    "# Imports for Groups and Integrations\n",
    "import astropy.units as u\n",
    "import json\n",
    "\n",
    "from exoctk.groups_integrations.groups_integrations import perform_calculation\n",
    "\n",
    "# Specify path to data file\n",
    "EXOCTK_DATA = os.environ.get('EXOCTK_DATA')\n",
    "if EXOCTK_DATA == '':\n",
    "    GROUPS_INTEGRATIONS_DIR = '/path/to/your/local/copy/integrations_groups_data.json'\n",
    "else:\n",
    "    GROUPS_INTEGRATIONS_DIR = GROUPS_INTEGRATIONS_DIR = os.path.join(EXOCTK_DATA, 'groups_integrations/groups_integrations.json')"
   ]
  },
  {
   "cell_type": "code",
   "execution_count": null,
   "metadata": {},
   "outputs": [],
   "source": [
    "# Open the file\n",
    "with open(GROUPS_INTEGRATIONS_DIR) as f:\n",
    "    parameter_space = json.load(f)\n",
    "    \n",
    "# Print the target acquisition (TA) and science observation modes\n",
    "modes = [('science', 'sci_sat'), ('TA', 'ta_sat')]\n",
    "for mode in modes:\n",
    "    print('\\n')\n",
    "    print('Available modes for {} :'.format(mode[0]))\n",
    "    print('------------------------')\n",
    "    inss = list(parameter_space[mode[1]].keys())\n",
    "    print('Instruments : {}'.format(inss))\n",
    "    for ins in inss:\n",
    "        filts = list(parameter_space[mode[1]][ins].keys())\n",
    "        print('Filters for {} : {}'.format(ins, filts))\n",
    "        subs = list(parameter_space[mode[1]][ins][filts[0]].keys())\n",
    "        print('Subarrays for {} : {}'.format(ins, subs))\n",
    "\n",
    "# Print the available Phoenix models\n",
    "print('\\n')\n",
    "print('Phoenix model keys :')\n",
    "print('---------------------')\n",
    "print(list(parameter_space['ta_sat'][inss[-1]][filts[0]][subs[0]].keys()))\n",
    "\n",
    "print('\\n')\n",
    "print('Magnitude sampling :')\n",
    "print('--------------------')\n",
    "print(parameter_space['mags'])"
   ]
  },
  {
   "cell_type": "code",
   "execution_count": null,
   "metadata": {},
   "outputs": [],
   "source": [
    "# Initialize a dictionary of inputs\n",
    "# When working with the webform, this is created for you\n",
    "# This information for WASP 107b is available at : https://exo.mast.stsci.edu/exomast_planet.html?planet=WASP19b\n",
    "parameters = {}\n",
    "\n",
    "# Source parameters\n",
    "parameters['mag'] = wasp107b_params['Kmag'] # Stellar mangnitude\n",
    "parameters['band'] = 'k' # only K band vega mag for now\n",
    "parameters['mod'] = 'k5v' # Phoenix model per last section\n",
    "\n",
    "# Observation specifics \n",
    "obs_time = wasp107b_params['transit_duration']*u.d.to('h')*3 + 1 # 3*transit duration, converted to hours, plus an extra hour of time\n",
    "parameters['obs_time'] = obs_time\n",
    "parameters['n_group'] = 'optimize' # 'optimize', or positive integer\n",
    "\n",
    "# Detector setup -- within the modes of the last section\n",
    "parameters['ins'] = 'niriss'\n",
    "# For science observation\n",
    "parameters['filt'] = 'soss'\n",
    "parameters['subarray'] = 'substrip256'\n",
    "# And target acquisition\n",
    "parameters['filt_ta'] = 'f480m'\n",
    "parameters['subarray_ta'] = 'im'\n",
    "\n",
    "# Saturation level\n",
    "parameters['sat_mode'] = 'well' # 'well', for full well fraction, or 'counts' \n",
    "parameters['sat_max'] = .80 # < 1 for fullwell, and a positive integer always\n",
    "\n",
    "# And feed in the data file\n",
    "parameters['infile'] = GROUPS_INTEGRATIONS_DIR\n",
    "input_dict = parameters.copy()"
   ]
  },
  {
   "cell_type": "code",
   "execution_count": null,
   "metadata": {},
   "outputs": [],
   "source": [
    "# Bookeeping for new/old parameters\n",
    "inputs = list(parameters.keys())\n",
    "\n",
    "# Perform the calculation \n",
    "results = perform_calculation(parameters)\n",
    "for key in results:\n",
    "    if key in inputs:\n",
    "        if key == 'infile':\n",
    "            # hackers\n",
    "            print('The input of infile was REDACTED!')\n",
    "        else:\n",
    "            print('The input of {} was {}.'.format(key, results[key]))\n",
    "    else:\n",
    "        print('The result of {} was {}'.format(key, results[key]))"
   ]
  },
  {
   "cell_type": "code",
   "execution_count": null,
   "metadata": {},
   "outputs": [],
   "source": [
    "# So let's make a nice printed summary \n",
    "print('The total time for science + TA observation scheme is {}-{} hours.'.format(\n",
    "    results['t_duration']+results['t_duration_ta_max'], results['t_duration']+results['t_duration_ta_min']))\n",
    "print('You need {} groups and {} integrations for the science observation.'.format(\n",
    "    results['n_group'], results['n_int']))\n",
    "print('You need between {} and {} groups for target acquisition.'.format(\n",
    "    results['max_ta_groups'], results['min_ta_groups']))\n",
    "print('We estimate your science observation will reach at most {} counts -- how close were we to your cutoff of {}?'.format(\n",
    "    results['max_sat_prediction'], results['sat_max']))\n",
    "print('With this observation scheme, {}% of the observation will be spent acquiring data.'.format(results['obs_eff']*100))"
   ]
  },
  {
   "cell_type": "markdown",
   "metadata": {},
   "source": [
    "# Visibility and Contamination Overlap\n",
    "Use ExoCTK’s Visibility and Contamination Overlap tool to determine when the target can be observed and at what position angles.\n",
    "\n",
    "Let's do this part online at https://exoctk.stsci.edu/contam_visibility.\n",
    "\n",
    "WASP-107 is visible twice per year for about 7 weeks each.\n",
    "\n",
    "There are two ranges of position angle for which WASP-107 can be observed with NIRISS/SOSS: 99-121 degrees and 285-307 degrees.  Fortunately, there are no nearby stars that could contaminate the spectrum at these position angles."
   ]
  },
  {
   "cell_type": "code",
   "execution_count": null,
   "metadata": {},
   "outputs": [],
   "source": []
  },
  {
   "cell_type": "markdown",
   "metadata": {},
   "source": [
    "# Phase Constraint\n",
    "Use ExoCTK’s Phase Constraint tool to calculate the range of acceptable start times (in units of orbital phase)"
   ]
  },
  {
   "cell_type": "code",
   "execution_count": null,
   "metadata": {},
   "outputs": [],
   "source": [
    "from exoctk.phase_constraint_overlap.phase_constraint_overlap import phase_overlap_constraint\n",
    "minphase,maxphase = phase_overlap_constraint(\"WASP-107b\", period=None, t0=None, obs_duration=obs_time, window_size=1.)\n",
    "\n",
    "print(minphase,maxphase)"
   ]
  },
  {
   "cell_type": "markdown",
   "metadata": {},
   "source": [
    "## Now we can put this data into APT.\n",
    "Please open your APT application now ..."
   ]
  },
  {
   "cell_type": "markdown",
   "metadata": {},
   "source": [
    "# Generate Limb Darkening Coefficients\n",
    "To generate limb darkening coefficients for our host star, we can use the `exoctk.limb_darkening` tool. We can create an `LDC` object using a stellar intensity grid from the Phoenix ACES or Kurucz ATLAS9 models (provided in the `EXOCTK_DATA` zip file)."
   ]
  },
  {
   "cell_type": "code",
   "execution_count": null,
   "metadata": {},
   "outputs": [],
   "source": [
    "from exoctk.limb_darkening.limb_darkening_fit import LDC\n",
    "from exoctk.modelgrid import ModelGrid\n",
    "from exoctk.utils import MODELGRID_DIR\n",
    "\n",
    "atlas9 = ModelGrid(os.path.join(MODELGRID_DIR, 'ATLAS9'), resolution=700)\n",
    "ld = LDC(atlas9)"
   ]
  },
  {
   "cell_type": "markdown",
   "metadata": {},
   "source": [
    "Next, we want to generate our limb darkening coefficients using a particular grism throughput using the `svo_filters` package. For this example, we'll use the GR700XD grism to simulate some NIRISS SOSS mode observations of our target, split into 15 equal wavelength bins."
   ]
  },
  {
   "cell_type": "code",
   "execution_count": null,
   "metadata": {},
   "outputs": [],
   "source": [
    "from svo_filters import Filter\n",
    "gr700xd = Filter('NIRISS.GR700XD.1', n_bins=15)\n",
    "gr700xd.plot()"
   ]
  },
  {
   "cell_type": "markdown",
   "metadata": {},
   "source": [
    "Finally, we can calculate our limb darkening coefficients by passing the host star effective temperature, surface gravity, and metalicity to the `calculate` method. We will also provide the limb darkening profile name and the bandpass we wish to consider:"
   ]
  },
  {
   "cell_type": "code",
   "execution_count": null,
   "metadata": {},
   "outputs": [],
   "source": [
    "teff = wasp107b_params['Teff']\n",
    "logg = wasp107b_params['stellar_gravity']\n",
    "feh = wasp107b_params['Fe/H']\n",
    "print(teff, logg, feh)\n",
    "ld.calculate(teff, logg, feh, 'quadratic', bandpass=gr700xd)\n",
    "ld.results.pprint()"
   ]
  },
  {
   "cell_type": "code",
   "execution_count": null,
   "metadata": {},
   "outputs": [],
   "source": []
  }
 ],
 "metadata": {
  "anaconda-cloud": {},
  "kernelspec": {
   "display_name": "exoctk-3.6",
   "language": "python",
   "name": "exoctk-3.6"
  },
  "language_info": {
   "codemirror_mode": {
    "name": "ipython",
    "version": 3
   },
   "file_extension": ".py",
   "mimetype": "text/x-python",
   "name": "python",
   "nbconvert_exporter": "python",
   "pygments_lexer": "ipython3",
   "version": "3.6.7"
  }
 },
 "nbformat": 4,
 "nbformat_minor": 2
}
